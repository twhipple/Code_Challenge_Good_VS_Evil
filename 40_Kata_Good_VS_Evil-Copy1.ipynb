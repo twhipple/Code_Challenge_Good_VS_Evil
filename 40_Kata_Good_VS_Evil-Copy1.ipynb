{
 "cells": [
  {
   "cell_type": "markdown",
   "metadata": {},
   "source": [
    "# Good verses Evil"
   ]
  },
  {
   "cell_type": "markdown",
   "metadata": {},
   "source": [
    "Middle Earth is about to go to war. The forces of good will have many battles with the forces of evil. Different races will certainly be involved. Each race has a certain worth when battling against others. On the side of good we have the following races, with their associated worth:\n",
    "\n",
    "Hobbits: 1\n",
    "Men: 2\n",
    "Elves: 3\n",
    "Dwarves: 3\n",
    "Eagles: 4\n",
    "Wizards: 10\n",
    "On the side of evil we have:\n",
    "\n",
    "Orcs: 1\n",
    "Men: 2\n",
    "Wargs: 2\n",
    "Goblins: 2\n",
    "Uruk Hai: 3\n",
    "Trolls: 5\n",
    "Wizards: 10\n",
    "\n",
    "Although weather, location, supplies and valor play a part in any battle, if you add up the worth of the side of good and compare it with the worth of the side of evil, the side with the larger worth will tend to win.\n",
    "\n",
    "Thus, given the count of each of the races on the side of good, followed by the count of each of the races on the side of evil, determine which side wins."
   ]
  },
  {
   "cell_type": "raw",
   "metadata": {},
   "source": [
    "The function will be given two parameters. Each parameter will be a string of multiple integers separated by a single space. Each string will contain the count of each race on the side of good and evil.\n",
    "\n",
    "The first parameter will contain the count of each race on the side of good in the following order:\n",
    "\n",
    "Hobbits, Men, Elves, Dwarves, Eagles, Wizards.\n",
    "The second parameter will contain the count of each race on the side of evil in the following order:\n",
    "\n",
    "Orcs, Men, Wargs, Goblins, Uruk Hai, Trolls, Wizards.\n",
    "All values are non-negative integers. The resulting sum of the worth for each side will not exceed the limit of a 32-bit integer."
   ]
  },
  {
   "cell_type": "markdown",
   "metadata": {},
   "source": [
    "Return \"Battle Result: Good triumphs over Evil\" if good wins, \"Battle Result: Evil eradicates all trace of Good\" if evil wins, or \"Battle Result: No victor on this battle field\" if it ends in a tie.\n",
    "\n"
   ]
  },
  {
   "cell_type": "code",
   "execution_count": 49,
   "metadata": {},
   "outputs": [],
   "source": [
    "def goodVsEvil(good, evil):\n",
    "    pass\n",
    "    #TODO Go get'em boys..."
   ]
  },
  {
   "cell_type": "code",
   "execution_count": 4,
   "metadata": {},
   "outputs": [],
   "source": [
    "goodVsEvil('1 1 1 1 1 1', '1 1 1 1 1 1 1') #  'Battle Result: Evil eradicates all trace of Good'\n",
    "goodVsEvil('0 0 0 0 0 10', '0 1 1 1 1 0 0') # 'Battle Result: Good triumphs over Evil'\n",
    "goodVsEvil('1 0 0 0 0 0', '1 0 0 0 0 0 0') #  'Battle Result: No victor on this battle field'"
   ]
  },
  {
   "cell_type": "code",
   "execution_count": null,
   "metadata": {},
   "outputs": [],
   "source": []
  },
  {
   "cell_type": "markdown",
   "metadata": {},
   "source": [
    "# My Code"
   ]
  },
  {
   "cell_type": "code",
   "execution_count": 1,
   "metadata": {},
   "outputs": [],
   "source": [
    "good_dic = {'Hobbits': 1, 'Men': 2, 'Elves': 3, 'Dwarves': 3, 'Eagles': 4, 'Wizards': 10}\n",
    "bad_dic = {'Orcs': 1, 'Men': 2, 'Wargs': 2, 'Goblins': 2, 'Uruk Hai': 3, 'Trolls': 5, 'Wizards': 10}"
   ]
  },
  {
   "cell_type": "code",
   "execution_count": 11,
   "metadata": {},
   "outputs": [],
   "source": [
    "good_guys = [1, 2, 3, 3, 4, 10]\n",
    "bad_guys = [1, 2, 2, 2, 3, 5, 10]"
   ]
  },
  {
   "cell_type": "code",
   "execution_count": 12,
   "metadata": {},
   "outputs": [],
   "source": [
    "good = '1 1 1 1 1 1'\n",
    "evil = '1 1 1 1 1 1 1'"
   ]
  },
  {
   "cell_type": "code",
   "execution_count": 19,
   "metadata": {},
   "outputs": [
    {
     "data": {
      "text/plain": [
       "'1 1 1 1 1 1'"
      ]
     },
     "execution_count": 19,
     "metadata": {},
     "output_type": "execute_result"
    }
   ],
   "source": [
    "good"
   ]
  },
  {
   "cell_type": "code",
   "execution_count": 20,
   "metadata": {},
   "outputs": [
    {
     "data": {
      "text/plain": [
       "['1', '1', '1', '1', '1', '1']"
      ]
     },
     "execution_count": 20,
     "metadata": {},
     "output_type": "execute_result"
    }
   ],
   "source": [
    "good.split()"
   ]
  },
  {
   "cell_type": "code",
   "execution_count": 21,
   "metadata": {},
   "outputs": [
    {
     "data": {
      "text/plain": [
       "[1, 1, 1, 1, 1, 1]"
      ]
     },
     "execution_count": 21,
     "metadata": {},
     "output_type": "execute_result"
    }
   ],
   "source": [
    "# My code\n",
    "new_list = []\n",
    "for c in good.split():\n",
    "    new_list.append(int(c))\n",
    "new_list"
   ]
  },
  {
   "cell_type": "code",
   "execution_count": 15,
   "metadata": {},
   "outputs": [
    {
     "data": {
      "text/plain": [
       "[1, 1, 1, 1, 1, 1]"
      ]
     },
     "execution_count": 15,
     "metadata": {},
     "output_type": "execute_result"
    }
   ],
   "source": [
    "# From Slack\n",
    "good_list = list(map(int, good.split()))\n",
    "good_list"
   ]
  },
  {
   "cell_type": "code",
   "execution_count": 16,
   "metadata": {},
   "outputs": [
    {
     "data": {
      "text/plain": [
       "1"
      ]
     },
     "execution_count": 16,
     "metadata": {},
     "output_type": "execute_result"
    }
   ],
   "source": [
    "good_list[0]"
   ]
  },
  {
   "cell_type": "code",
   "execution_count": 17,
   "metadata": {},
   "outputs": [
    {
     "data": {
      "text/plain": [
       "[1, 1, 1, 1, 1, 1, 1]"
      ]
     },
     "execution_count": 17,
     "metadata": {},
     "output_type": "execute_result"
    }
   ],
   "source": [
    "# A different way\n",
    "evil_list = [int(x) for x in evil.split()]\n",
    "evil_list"
   ]
  },
  {
   "cell_type": "code",
   "execution_count": 40,
   "metadata": {},
   "outputs": [
    {
     "data": {
      "text/plain": [
       "[1, 1, 1, 1, 1, 1]"
      ]
     },
     "execution_count": 40,
     "metadata": {},
     "output_type": "execute_result"
    }
   ],
   "source": [
    "good_list"
   ]
  },
  {
   "cell_type": "code",
   "execution_count": 41,
   "metadata": {},
   "outputs": [
    {
     "data": {
      "text/plain": [
       "[1, 2, 3, 3, 4, 10]"
      ]
     },
     "execution_count": 41,
     "metadata": {},
     "output_type": "execute_result"
    }
   ],
   "source": [
    "good_guys"
   ]
  },
  {
   "cell_type": "code",
   "execution_count": 44,
   "metadata": {},
   "outputs": [
    {
     "data": {
      "text/plain": [
       "[1, 2, 3, 3, 4, 10]"
      ]
     },
     "execution_count": 44,
     "metadata": {},
     "output_type": "execute_result"
    }
   ],
   "source": [
    "good_worth = []\n",
    "for i in range(0, len(good_list)):\n",
    "    worth = good_list[i] * good_guys[i]\n",
    "    good_worth.append(worth)\n",
    "good_worth"
   ]
  },
  {
   "cell_type": "code",
   "execution_count": 38,
   "metadata": {},
   "outputs": [
    {
     "data": {
      "text/plain": [
       "[1, 2, 2, 2, 3, 5, 10]"
      ]
     },
     "execution_count": 38,
     "metadata": {},
     "output_type": "execute_result"
    }
   ],
   "source": [
    "# From Slack\n",
    "evil_worth = [bad_guys[i] * evil_list[i] for i in range(len(evil_list))]\n",
    "evil_worth"
   ]
  },
  {
   "cell_type": "code",
   "execution_count": 46,
   "metadata": {},
   "outputs": [
    {
     "data": {
      "text/plain": [
       "23"
      ]
     },
     "execution_count": 46,
     "metadata": {},
     "output_type": "execute_result"
    }
   ],
   "source": [
    "good_worth = []\n",
    "for i in range(0, len(good_list)):\n",
    "    worth = good_list[i] * good_guys[i]\n",
    "    good_worth.append(worth)\n",
    "sum(good_worth)"
   ]
  },
  {
   "cell_type": "code",
   "execution_count": 47,
   "metadata": {},
   "outputs": [
    {
     "data": {
      "text/plain": [
       "25"
      ]
     },
     "execution_count": 47,
     "metadata": {},
     "output_type": "execute_result"
    }
   ],
   "source": [
    "evil_worth = [bad_guys[i] * evil_list[i] for i in range(len(evil_list))]\n",
    "sum(evil_worth)"
   ]
  },
  {
   "cell_type": "code",
   "execution_count": 51,
   "metadata": {},
   "outputs": [],
   "source": [
    "# My solution!\n",
    "def goodVsEvil(good, evil):\n",
    "    good_guys = [1, 2, 3, 3, 4, 10]\n",
    "    bad_guys = [1, 2, 2, 2, 3, 5, 10]\n",
    "    good_list = list(map(int, good.split()))\n",
    "    good_worth = []\n",
    "    for i in range(0, len(good_list)):\n",
    "        worth = good_list[i] * good_guys[i]\n",
    "        good_worth.append(worth)\n",
    "    evil_list = [int(x) for x in evil.split()]\n",
    "    evil_worth = [bad_guys[i] * evil_list[i] for i in range(len(evil_list))]\n",
    "    if sum(good_worth) > sum(evil_worth):\n",
    "        return 'Battle Result: Good triumphs over Evil'\n",
    "    elif sum(good_worth) < sum(evil_worth):\n",
    "        return 'Battle Result: Evil eradicates all trace of Good'         \n",
    "    else:\n",
    "        return 'Battle Result: No victor on this battle field'           "
   ]
  },
  {
   "cell_type": "code",
   "execution_count": 56,
   "metadata": {},
   "outputs": [
    {
     "data": {
      "text/plain": [
       "'Battle Result: Evil eradicates all trace of Good'"
      ]
     },
     "execution_count": 56,
     "metadata": {},
     "output_type": "execute_result"
    }
   ],
   "source": [
    "goodVsEvil('1 1 1 1 1 1', '1 1 1 1 1 1 1') #  'Battle Result: Evil eradicates all trace of Good'"
   ]
  },
  {
   "cell_type": "code",
   "execution_count": 57,
   "metadata": {},
   "outputs": [
    {
     "data": {
      "text/plain": [
       "'Battle Result: Good triumphs over Evil'"
      ]
     },
     "execution_count": 57,
     "metadata": {},
     "output_type": "execute_result"
    }
   ],
   "source": [
    "goodVsEvil('0 0 0 0 0 10', '0 1 1 1 1 0 0') # 'Battle Result: Good triumphs over Evil'"
   ]
  },
  {
   "cell_type": "code",
   "execution_count": 58,
   "metadata": {},
   "outputs": [
    {
     "data": {
      "text/plain": [
       "'Battle Result: No victor on this battle field'"
      ]
     },
     "execution_count": 58,
     "metadata": {},
     "output_type": "execute_result"
    }
   ],
   "source": [
    "goodVsEvil('1 0 0 0 0 0', '1 0 0 0 0 0 0') #  'Battle Result: No victor on this battle field'"
   ]
  },
  {
   "cell_type": "code",
   "execution_count": 55,
   "metadata": {},
   "outputs": [],
   "source": [
    "# Shorten version using list comprehension\n",
    "def goodVsEvil(good, evil):\n",
    "    good_guys = [1, 2, 3, 3, 4, 10]\n",
    "    bad_guys = [1, 2, 2, 2, 3, 5, 10]\n",
    "        \n",
    "    good_list = [int(x) for x in good.split()]\n",
    "    good_worth = [good_guys[i] * good_list[i] for i in range(len(good_list))]\n",
    "    \n",
    "    evil_list = [int(x) for x in evil.split()]\n",
    "    evil_worth = [bad_guys[i] * evil_list[i] for i in range(len(evil_list))]\n",
    "    \n",
    "    if sum(good_worth) > sum(evil_worth):\n",
    "        return 'Battle Result: Good triumphs over Evil'\n",
    "    elif sum(good_worth) < sum(evil_worth):\n",
    "        return 'Battle Result: Evil eradicates all trace of Good'         \n",
    "    else:\n",
    "        return 'Battle Result: No victor on this battle field' "
   ]
  },
  {
   "cell_type": "markdown",
   "metadata": {},
   "source": [
    "# Solutions"
   ]
  },
  {
   "cell_type": "code",
   "execution_count": null,
   "metadata": {},
   "outputs": [],
   "source": [
    "def goodVsEvil(good, evil):\n",
    "\n",
    "    points_good = [1, 2, 3, 3, 4, 10]\n",
    "    points_evil = [1, 2, 2, 2, 3, 5, 10]\n",
    "    \n",
    "    good = sum([int(x)*y for x, y in zip(good.split(), points_good)])\n",
    "    evil = sum([int(x)*y for x, y in zip(evil.split(), points_evil)])\n",
    "\n",
    "    result = 'Battle Result: '\n",
    "    \n",
    "    if good < evil:\n",
    "        return result + 'Evil eradicates all trace of Good'\n",
    "    elif good > evil:\n",
    "        return result + 'Good triumphs over Evil'\n",
    "    else:\n",
    "        return result + 'No victor on this battle field'"
   ]
  },
  {
   "cell_type": "code",
   "execution_count": null,
   "metadata": {},
   "outputs": [],
   "source": [
    "GOOD_WIN = \"Battle Result: Good triumphs over Evil\"\n",
    "EVIL_WIN = \"Battle Result: Evil eradicates all trace of Good\"\n",
    "DRAW = \"Battle Result: No victor on this battle field\"\n",
    "\n",
    "GOOD = [1, 2, 3, 3, 4, 10]\n",
    "EVIL = [1, 2, 2, 2, 3, 5, 10]\n",
    "\n",
    "def goodVsEvil(good, evil):\n",
    "    g = sum(map(lambda x, y: x * y, GOOD, [int(x) for x in good.split(' ')]))\n",
    "    e = sum(map(lambda x, y: x * y, EVIL, [int(x) for x in evil.split(' ')]))\n",
    "    return GOOD_WIN if g > e else EVIL_WIN if e > g else DRAW"
   ]
  },
  {
   "cell_type": "code",
   "execution_count": null,
   "metadata": {},
   "outputs": [],
   "source": [
    "def goodVsEvil(good, evil):\n",
    "    good = sum([int(x) * y for x, y in zip(list(good.split(' ')), [1, 2, 3, 3, 4, 10])])\n",
    "    evil = sum([int(x) * y for x, y in zip(list(evil.split(' ')), [1, 2, 2, 2, 3, 5, 10])])\n",
    "    result = ['Battle Result: No victor on this battle field', \n",
    "              'Battle Result: Good triumphs over Evil', \n",
    "              'Battle Result: Evil eradicates all trace of Good']\n",
    "    return result[0] if good == evil else result[1] if good > evil else result[2]"
   ]
  },
  {
   "cell_type": "code",
   "execution_count": null,
   "metadata": {},
   "outputs": [],
   "source": [
    "def goodVsEvil(good, evil):\n",
    "    GOODS_AND_EVILS = [1,2,3,3,4,10,-1,-2,-2,-2,-3,-5,-10]\n",
    "    s = sum( int(n)*GOODS_AND_EVILS[i] for i,n in enumerate(\"{} {}\".format(good,evil).split()) )\n",
    "    return [\"Battle Result: Evil eradicates all trace of Good\",\n",
    "            \"Battle Result: No victor on this battle field\",\n",
    "            \"Battle Result: Good triumphs over Evil\"][ (s>=0) + (s>0) ]"
   ]
  }
 ],
 "metadata": {
  "kernelspec": {
   "display_name": "learn-env",
   "language": "python",
   "name": "learn-env"
  },
  "language_info": {
   "codemirror_mode": {
    "name": "ipython",
    "version": 3
   },
   "file_extension": ".py",
   "mimetype": "text/x-python",
   "name": "python",
   "nbconvert_exporter": "python",
   "pygments_lexer": "ipython3",
   "version": "3.6.9"
  },
  "toc": {
   "base_numbering": 1,
   "nav_menu": {},
   "number_sections": true,
   "sideBar": true,
   "skip_h1_title": false,
   "title_cell": "Table of Contents",
   "title_sidebar": "Contents",
   "toc_cell": false,
   "toc_position": {},
   "toc_section_display": true,
   "toc_window_display": false
  }
 },
 "nbformat": 4,
 "nbformat_minor": 4
}
